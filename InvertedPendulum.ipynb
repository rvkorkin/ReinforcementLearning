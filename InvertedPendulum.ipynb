{
  "cells": [
    {
      "cell_type": "code",
      "execution_count": 1,
      "id": "ed09c956",
      "metadata": {
        "colab": {
          "base_uri": "https://localhost:8080/",
          "height": 1000
        },
        "id": "ed09c956",
        "outputId": "da8fd881-07ff-42f6-c3a6-36291a56491a"
      },
      "outputs": [
        {
          "output_type": "stream",
          "name": "stdout",
          "text": [
            "Reading package lists... Done\n",
            "Building dependency tree       \n",
            "Reading state information... Done\n",
            "libgl1-mesa-dev is already the newest version (20.0.8-0ubuntu1~18.04.1).\n",
            "libgl1-mesa-dev set to manually installed.\n",
            "software-properties-common is already the newest version (0.96.24.32.18).\n",
            "Suggested packages:\n",
            "  glew-utils\n",
            "The following NEW packages will be installed:\n",
            "  libgl1-mesa-glx libglew-dev libglew2.0 libosmesa6 libosmesa6-dev\n",
            "0 upgraded, 5 newly installed, 0 to remove and 37 not upgraded.\n",
            "Need to get 2,916 kB of archives.\n",
            "After this operation, 12.6 MB of additional disk space will be used.\n",
            "Get:1 http://archive.ubuntu.com/ubuntu bionic-updates/main amd64 libgl1-mesa-glx amd64 20.0.8-0ubuntu1~18.04.1 [5,532 B]\n",
            "Get:2 http://archive.ubuntu.com/ubuntu bionic/universe amd64 libglew2.0 amd64 2.0.0-5 [140 kB]\n",
            "Get:3 http://archive.ubuntu.com/ubuntu bionic/universe amd64 libglew-dev amd64 2.0.0-5 [120 kB]\n",
            "Get:4 http://archive.ubuntu.com/ubuntu bionic-updates/main amd64 libosmesa6 amd64 20.0.8-0ubuntu1~18.04.1 [2,641 kB]\n",
            "Get:5 http://archive.ubuntu.com/ubuntu bionic-updates/main amd64 libosmesa6-dev amd64 20.0.8-0ubuntu1~18.04.1 [8,828 B]\n",
            "Fetched 2,916 kB in 3s (1,118 kB/s)\n",
            "Selecting previously unselected package libgl1-mesa-glx:amd64.\n",
            "(Reading database ... 155229 files and directories currently installed.)\n",
            "Preparing to unpack .../libgl1-mesa-glx_20.0.8-0ubuntu1~18.04.1_amd64.deb ...\n",
            "Unpacking libgl1-mesa-glx:amd64 (20.0.8-0ubuntu1~18.04.1) ...\n",
            "Selecting previously unselected package libglew2.0:amd64.\n",
            "Preparing to unpack .../libglew2.0_2.0.0-5_amd64.deb ...\n",
            "Unpacking libglew2.0:amd64 (2.0.0-5) ...\n",
            "Selecting previously unselected package libglew-dev:amd64.\n",
            "Preparing to unpack .../libglew-dev_2.0.0-5_amd64.deb ...\n",
            "Unpacking libglew-dev:amd64 (2.0.0-5) ...\n",
            "Selecting previously unselected package libosmesa6:amd64.\n",
            "Preparing to unpack .../libosmesa6_20.0.8-0ubuntu1~18.04.1_amd64.deb ...\n",
            "Unpacking libosmesa6:amd64 (20.0.8-0ubuntu1~18.04.1) ...\n",
            "Selecting previously unselected package libosmesa6-dev:amd64.\n",
            "Preparing to unpack .../libosmesa6-dev_20.0.8-0ubuntu1~18.04.1_amd64.deb ...\n",
            "Unpacking libosmesa6-dev:amd64 (20.0.8-0ubuntu1~18.04.1) ...\n",
            "Setting up libosmesa6:amd64 (20.0.8-0ubuntu1~18.04.1) ...\n",
            "Setting up libgl1-mesa-glx:amd64 (20.0.8-0ubuntu1~18.04.1) ...\n",
            "Setting up libglew2.0:amd64 (2.0.0-5) ...\n",
            "Setting up libglew-dev:amd64 (2.0.0-5) ...\n",
            "Setting up libosmesa6-dev:amd64 (20.0.8-0ubuntu1~18.04.1) ...\n",
            "Processing triggers for libc-bin (2.27-3ubuntu1.3) ...\n",
            "/sbin/ldconfig.real: /usr/local/lib/python3.7/dist-packages/ideep4py/lib/libmkldnn.so.0 is not a symbolic link\n",
            "\n",
            "Reading package lists... Done\n",
            "Building dependency tree       \n",
            "Reading state information... Done\n",
            "The following NEW packages will be installed:\n",
            "  patchelf\n",
            "0 upgraded, 1 newly installed, 0 to remove and 37 not upgraded.\n",
            "Need to get 46.5 kB of archives.\n",
            "After this operation, 130 kB of additional disk space will be used.\n",
            "Get:1 http://archive.ubuntu.com/ubuntu bionic/universe amd64 patchelf amd64 0.9-1 [46.5 kB]\n",
            "Fetched 46.5 kB in 1s (38.4 kB/s)\n",
            "Selecting previously unselected package patchelf.\n",
            "(Reading database ... 155267 files and directories currently installed.)\n",
            "Preparing to unpack .../patchelf_0.9-1_amd64.deb ...\n",
            "Unpacking patchelf (0.9-1) ...\n",
            "Setting up patchelf (0.9-1) ...\n",
            "Processing triggers for man-db (2.8.3-2ubuntu0.1) ...\n",
            "Requirement already satisfied: gym in /usr/local/lib/python3.7/dist-packages (0.17.3)\n",
            "Requirement already satisfied: numpy>=1.10.4 in /usr/local/lib/python3.7/dist-packages (from gym) (1.19.5)\n",
            "Requirement already satisfied: scipy in /usr/local/lib/python3.7/dist-packages (from gym) (1.4.1)\n",
            "Requirement already satisfied: pyglet<=1.5.0,>=1.4.0 in /usr/local/lib/python3.7/dist-packages (from gym) (1.5.0)\n",
            "Requirement already satisfied: cloudpickle<1.7.0,>=1.2.0 in /usr/local/lib/python3.7/dist-packages (from gym) (1.3.0)\n",
            "Requirement already satisfied: future in /usr/local/lib/python3.7/dist-packages (from pyglet<=1.5.0,>=1.4.0->gym) (0.16.0)\n",
            "Collecting free-mujoco-py==2.1.4\n",
            "  Downloading free_mujoco_py-2.1.4-py3-none-any.whl (14.1 MB)\n",
            "\u001b[K     |████████████████████████████████| 14.1 MB 4.1 MB/s \n",
            "\u001b[?25hRequirement already satisfied: cffi<2.0.0,>=1.15.0 in /usr/local/lib/python3.7/dist-packages (from free-mujoco-py==2.1.4) (1.15.0)\n",
            "Collecting fasteners==0.15\n",
            "  Downloading fasteners-0.15-py2.py3-none-any.whl (23 kB)\n",
            "Collecting numpy<2.0.0,>=1.21.3\n",
            "  Downloading numpy-1.21.5-cp37-cp37m-manylinux_2_12_x86_64.manylinux2010_x86_64.whl (15.7 MB)\n",
            "\u001b[K     |████████████████████████████████| 15.7 MB 30.7 MB/s \n",
            "\u001b[?25hCollecting glfw<3.0.0,>=2.3.0\n",
            "  Downloading glfw-2.5.0-py2.py27.py3.py30.py31.py32.py33.py34.py35.py36.py37.py38-none-manylinux2014_x86_64.whl (205 kB)\n",
            "\u001b[K     |████████████████████████████████| 205 kB 49.2 MB/s \n",
            "\u001b[?25hRequirement already satisfied: Cython<0.30.0,>=0.29.24 in /usr/local/lib/python3.7/dist-packages (from free-mujoco-py==2.1.4) (0.29.26)\n",
            "Collecting imageio<3.0.0,>=2.9.0\n",
            "  Downloading imageio-2.14.1-py3-none-any.whl (3.3 MB)\n",
            "\u001b[K     |████████████████████████████████| 3.3 MB 37.4 MB/s \n",
            "\u001b[?25hCollecting monotonic>=0.1\n",
            "  Downloading monotonic-1.6-py2.py3-none-any.whl (8.2 kB)\n",
            "Requirement already satisfied: six in /usr/local/lib/python3.7/dist-packages (from fasteners==0.15->free-mujoco-py==2.1.4) (1.15.0)\n",
            "Requirement already satisfied: pycparser in /usr/local/lib/python3.7/dist-packages (from cffi<2.0.0,>=1.15.0->free-mujoco-py==2.1.4) (2.21)\n",
            "Collecting pillow>=8.3.2\n",
            "  Downloading Pillow-9.0.0-cp37-cp37m-manylinux_2_17_x86_64.manylinux2014_x86_64.whl (4.3 MB)\n",
            "\u001b[K     |████████████████████████████████| 4.3 MB 31.0 MB/s \n",
            "\u001b[?25hInstalling collected packages: pillow, numpy, monotonic, imageio, glfw, fasteners, free-mujoco-py\n",
            "  Attempting uninstall: pillow\n",
            "    Found existing installation: Pillow 7.1.2\n",
            "    Uninstalling Pillow-7.1.2:\n",
            "      Successfully uninstalled Pillow-7.1.2\n",
            "  Attempting uninstall: numpy\n",
            "    Found existing installation: numpy 1.19.5\n",
            "    Uninstalling numpy-1.19.5:\n",
            "      Successfully uninstalled numpy-1.19.5\n",
            "  Attempting uninstall: imageio\n",
            "    Found existing installation: imageio 2.4.1\n",
            "    Uninstalling imageio-2.4.1:\n",
            "      Successfully uninstalled imageio-2.4.1\n",
            "\u001b[31mERROR: pip's dependency resolver does not currently take into account all the packages that are installed. This behaviour is the source of the following dependency conflicts.\n",
            "yellowbrick 1.3.post1 requires numpy<1.20,>=1.16.0, but you have numpy 1.21.5 which is incompatible.\n",
            "datascience 0.10.6 requires folium==0.2.1, but you have folium 0.8.3 which is incompatible.\n",
            "albumentations 0.1.12 requires imgaug<0.2.7,>=0.2.5, but you have imgaug 0.2.9 which is incompatible.\u001b[0m\n",
            "Successfully installed fasteners-0.15 free-mujoco-py-2.1.4 glfw-2.5.0 imageio-2.14.1 monotonic-1.6 numpy-1.21.5 pillow-9.0.0\n"
          ]
        },
        {
          "output_type": "display_data",
          "data": {
            "application/vnd.colab-display-data+json": {
              "pip_warning": {
                "packages": [
                  "PIL",
                  "numpy"
                ]
              }
            }
          },
          "metadata": {}
        }
      ],
      "source": [
        "!apt-get install -y libgl1-mesa-dev libgl1-mesa-glx libglew-dev libosmesa6-dev software-properties-common\n",
        "!apt-get install -y patchelf\n",
        "!pip install gym\n",
        "!pip install free-mujoco-py==2.1.4"
      ]
    },
    {
      "cell_type": "code",
      "execution_count": 2,
      "id": "75fcf322",
      "metadata": {
        "id": "75fcf322",
        "colab": {
          "base_uri": "https://localhost:8080/"
        },
        "outputId": "62fccd5b-6fde-4a65-a302-2cce000a684c"
      },
      "outputs": [
        {
          "output_type": "stream",
          "name": "stdout",
          "text": [
            "running build_ext\n",
            "building 'mujoco_py.cymj' extension\n",
            "x86_64-linux-gnu-gcc -pthread -Wno-unused-result -Wsign-compare -DNDEBUG -g -fwrapv -O2 -Wall -g -fdebug-prefix-map=/build/python3.7-Y7dWVB/python3.7-3.7.12=. -fstack-protector-strong -Wformat -Werror=format-security -g -fdebug-prefix-map=/build/python3.7-Y7dWVB/python3.7-3.7.12=. -fstack-protector-strong -Wformat -Werror=format-security -Wdate-time -D_FORTIFY_SOURCE=2 -fPIC -I/usr/local/lib/python3.7/dist-packages/mujoco_py -I/usr/local/lib/python3.7/dist-packages/mujoco_py/binaries/linux/mujoco210/include -I/usr/local/lib/python3.7/dist-packages/numpy/core/include -I/usr/include/python3.7m -c /usr/local/lib/python3.7/dist-packages/mujoco_py/cymj.c -o /usr/local/lib/python3.7/dist-packages/mujoco_py/generated/_pyxbld_2.0.2.13_37_linuxcpuextensionbuilder/temp.linux-x86_64-3.7/usr/local/lib/python3.7/dist-packages/mujoco_py/cymj.o -fopenmp -w\n",
            "x86_64-linux-gnu-gcc -pthread -Wno-unused-result -Wsign-compare -DNDEBUG -g -fwrapv -O2 -Wall -g -fdebug-prefix-map=/build/python3.7-Y7dWVB/python3.7-3.7.12=. -fstack-protector-strong -Wformat -Werror=format-security -g -fdebug-prefix-map=/build/python3.7-Y7dWVB/python3.7-3.7.12=. -fstack-protector-strong -Wformat -Werror=format-security -Wdate-time -D_FORTIFY_SOURCE=2 -fPIC -I/usr/local/lib/python3.7/dist-packages/mujoco_py -I/usr/local/lib/python3.7/dist-packages/mujoco_py/binaries/linux/mujoco210/include -I/usr/local/lib/python3.7/dist-packages/numpy/core/include -I/usr/include/python3.7m -c /usr/local/lib/python3.7/dist-packages/mujoco_py/gl/osmesashim.c -o /usr/local/lib/python3.7/dist-packages/mujoco_py/generated/_pyxbld_2.0.2.13_37_linuxcpuextensionbuilder/temp.linux-x86_64-3.7/usr/local/lib/python3.7/dist-packages/mujoco_py/gl/osmesashim.o -fopenmp -w\n",
            "creating /usr/local/lib/python3.7/dist-packages/mujoco_py/generated/_pyxbld_2.0.2.13_37_linuxcpuextensionbuilder/lib.linux-x86_64-3.7\n",
            "creating /usr/local/lib/python3.7/dist-packages/mujoco_py/generated/_pyxbld_2.0.2.13_37_linuxcpuextensionbuilder/lib.linux-x86_64-3.7/mujoco_py\n",
            "x86_64-linux-gnu-gcc -pthread -shared -Wl,-O1 -Wl,-Bsymbolic-functions -Wl,-Bsymbolic-functions -Wl,-z,relro -Wl,-Bsymbolic-functions -Wl,-z,relro -g -fdebug-prefix-map=/build/python3.7-Y7dWVB/python3.7-3.7.12=. -fstack-protector-strong -Wformat -Werror=format-security -Wdate-time -D_FORTIFY_SOURCE=2 /usr/local/lib/python3.7/dist-packages/mujoco_py/generated/_pyxbld_2.0.2.13_37_linuxcpuextensionbuilder/temp.linux-x86_64-3.7/usr/local/lib/python3.7/dist-packages/mujoco_py/cymj.o /usr/local/lib/python3.7/dist-packages/mujoco_py/generated/_pyxbld_2.0.2.13_37_linuxcpuextensionbuilder/temp.linux-x86_64-3.7/usr/local/lib/python3.7/dist-packages/mujoco_py/gl/osmesashim.o -L/usr/local/lib/python3.7/dist-packages/mujoco_py/binaries/linux/mujoco210/bin -Wl,--enable-new-dtags,-R/usr/local/lib/python3.7/dist-packages/mujoco_py/binaries/linux/mujoco210/bin -lmujoco210 -lglewosmesa -lOSMesa -lGL -o /usr/local/lib/python3.7/dist-packages/mujoco_py/generated/_pyxbld_2.0.2.13_37_linuxcpuextensionbuilder/lib.linux-x86_64-3.7/mujoco_py/cymj.cpython-37m-x86_64-linux-gnu.so -fopenmp\n"
          ]
        }
      ],
      "source": [
        "import mujoco_py\n",
        "import gym\n",
        "import time\n",
        "import torch\n",
        "from torchvision import datasets, transforms\n",
        "from torch.utils.data import TensorDataset, DataLoader\n",
        "from matplotlib import pyplot as plt\n",
        "import string\n",
        "import torch.nn as nn\n",
        "import torch.nn.functional as func\n",
        "import torch.optim as optimizer\n",
        "from torch.distributions import Normal\n",
        "from matplotlib import pyplot as plt\n",
        "from tqdm import tqdm\n",
        "from copy import deepcopy\n",
        "from torch.optim import Adam\n",
        "import numpy as np"
      ]
    },
    {
      "cell_type": "code",
      "source": [
        "device = torch.device('cuda:0') if torch.cuda.is_available() else torch.device('cpu')"
      ],
      "metadata": {
        "id": "9GzBSn7nWXjV"
      },
      "id": "9GzBSn7nWXjV",
      "execution_count": 3,
      "outputs": []
    },
    {
      "cell_type": "code",
      "execution_count": 12,
      "id": "qx3vVKwWMfOe",
      "metadata": {
        "id": "qx3vVKwWMfOe"
      },
      "outputs": [],
      "source": [
        "class ReplayBuffer(object):\n",
        "\n",
        "    def __init__(self, state_dimension, action_dimension, max_size=int(1e6)):\n",
        "        self.max_size = max_size\n",
        "        self.counter = 0\n",
        "        self.size = 0\n",
        "        self.storage = [np.zeros((max_size, state_dimension)), np.zeros((max_size, action_dimension)), np.zeros((max_size, 1)), np.zeros((max_size, state_dimension)), np.zeros((max_size, 1))]\n",
        "\n",
        "    def add(self, state, action, reward, next_state, done):\n",
        "        self.storage[0][self.counter] = state\n",
        "        self.storage[1][self.counter] = action\n",
        "        self.storage[2][self.counter] = reward\n",
        "        self.storage[3][self.counter] = next_state\n",
        "        self.storage[4][self.counter] = 1.0 - done\n",
        "        self.counter = (self.counter + 1) % self.max_size\n",
        "        self.size = min(self.size + 1, self.max_size)\n",
        "\n",
        "    def sample(self, batch_size):\n",
        "        ind = np.random.randint(0, self.size, size=batch_size)\n",
        "        return (\n",
        "            torch.FloatTensor(self.storage[0][ind]).to(device),\n",
        "            torch.FloatTensor(self.storage[1][ind]).to(device),\n",
        "            torch.FloatTensor(self.storage[2][ind]).to(device),\n",
        "            torch.FloatTensor(self.storage[3][ind]).to(device),\n",
        "            torch.FloatTensor(self.storage[4][ind]).to(device)\n",
        "        )"
      ]
    },
    {
      "cell_type": "code",
      "execution_count": 61,
      "id": "83194999",
      "metadata": {
        "id": "83194999"
      },
      "outputs": [],
      "source": [
        "class Actor(torch.nn.Module):\n",
        "    def __init__(self, state_dim, n_actions, max_action):\n",
        "        super(Actor, self).__init__()\n",
        "        self.max_action = max_action\n",
        "        self.layer = nn.Sequential(\n",
        "            nn.Linear(state_dim, 128),\n",
        "            nn.LeakyReLU(),\n",
        "            nn.LayerNorm(128),\n",
        "            nn.Linear(128, 64),\n",
        "            nn.LeakyReLU(),\n",
        "            nn.LayerNorm(64),\n",
        "            nn.Linear(64, n_actions),\n",
        "            nn.Tanh()\n",
        "        )\n",
        "    def forward(self, state):\n",
        "        return self.layer(state)\n",
        "\n",
        "\n",
        "class Critic(torch.nn.Module):\n",
        "    def __init__(self, state_dim, n_actions):\n",
        "        super(Critic, self).__init__()\n",
        "        self.layer1 = nn.Sequential(\n",
        "            nn.Linear(state_dim+n_actions, 128),\n",
        "            nn.LeakyReLU(),\n",
        "            nn.LayerNorm(128),\n",
        "            nn.Linear(128, 64),\n",
        "            nn.LeakyReLU(),\n",
        "            nn.LayerNorm(64),\n",
        "            nn.Linear(64, 1)\n",
        "        )\n",
        "        self.layer2 = nn.Sequential(\n",
        "            nn.Linear(state_dim+n_actions, 128),\n",
        "            nn.LeakyReLU(),\n",
        "            nn.LayerNorm(128),\n",
        "            nn.Linear(128, 64),\n",
        "            nn.LeakyReLU(),\n",
        "            nn.LayerNorm(64),\n",
        "            nn.Linear(64, 1)\n",
        "        )\n",
        "\n",
        "    def forward(self, state, action):\n",
        "        out = torch.cat([state, action], 1)\n",
        "        return self.layer1(out), self.layer2(out)"
      ]
    },
    {
      "cell_type": "code",
      "execution_count": 62,
      "id": "3f2cacc0",
      "metadata": {
        "id": "3f2cacc0"
      },
      "outputs": [],
      "source": [
        "class DDPG(object):\n",
        "    def __init__(self, state_dim, n_actions, max_action, gamma=0.99, tau=0.005, noise=0.2, noise_max=0.5, update_period=4, lr=5e-4):\n",
        "        self.actor = Actor(state_dim, n_actions, max_action).to(device)\n",
        "        self.actor_target = deepcopy(self.actor)\n",
        "        self.actor_optimizer = torch.optim.Adam(self.actor.parameters(), lr=1e-4)\n",
        "        self.critic = Critic(state_dim, n_actions).to(device)\n",
        "        self.critic_target = deepcopy(self.critic)\n",
        "        self.critic_optimizer = torch.optim.Adam(self.critic.parameters(), lr=3e-4)\n",
        "        self.max_action = max_action\n",
        "        self.gamma = gamma\n",
        "        self.tau = tau\n",
        "        self.noise = noise\n",
        "        self.noise_max = noise_max\n",
        "        self.update_period = update_period\n",
        "        self.iter = 0\n",
        "\n",
        "    def select_action(self, state):\n",
        "        state = torch.FloatTensor(state.reshape(1, -1)).to(device)\n",
        "        return self.actor(state).cpu().data.numpy().flatten()\n",
        "\n",
        "    @staticmethod\n",
        "    def soft_update(local_model, target_model, tau):\n",
        "        for param, target_param in zip(local_model.parameters(), target_model.parameters()):\n",
        "            target_param.data.copy_(tau * param.data + (1 - tau) * target_param.data)\n",
        "\n",
        "    def train(self, memory, batch_size=100):\n",
        "        self.iter += 1\n",
        "        state, action, reward, next_state, not_done = memory.sample(batch_size)\n",
        "        with torch.no_grad():\n",
        "            curr_noise = (torch.randn_like(action) * self.noise).clamp(-self.noise_max, self.noise_max)\n",
        "            next_action = (self.actor_target(next_state) + curr_noise).clamp(-self.max_action, self.max_action)\n",
        "            target_q1, target_q2 = self.critic_target(next_state, next_action)\n",
        "            target_q = torch.min(target_q1, target_q2)\n",
        "            target_q = reward + not_done * self.gamma * target_q\n",
        "\n",
        "        current_q1, current_q2 = self.critic(state, action)\n",
        "        critic_loss = func.mse_loss(current_q1, target_q) + func.mse_loss(current_q2, target_q)\n",
        "        self.critic_optimizer.zero_grad()\n",
        "        critic_loss.backward()\n",
        "        self.critic_optimizer.step()\n",
        "        if self.iter % self.update_period == 0:\n",
        "            q1, q2 = self.critic(state, self.actor(state))\n",
        "            actor_loss = -(q1 + q2).mean()\n",
        "            self.actor_optimizer.zero_grad()\n",
        "            actor_loss.backward()\n",
        "            self.actor_optimizer.step()\n",
        "            DDPG.soft_update(self.critic, self.critic_target, self.tau)\n",
        "            DDPG.soft_update(self.actor, self.actor_target, self.tau)"
      ]
    },
    {
      "cell_type": "code",
      "execution_count": 64,
      "id": "Fn7RkFL12wOi",
      "metadata": {
        "id": "Fn7RkFL12wOi"
      },
      "outputs": [],
      "source": [
        "import gym\n",
        "\n",
        "def evaluate(agent, eval_env, episodes=10):\n",
        "    reward = 0\n",
        "    t_max = 100000\n",
        "    for i in range(episodes):\n",
        "        state = eval_env.reset()\n",
        "        is_done = False\n",
        "        for _ in range(t_max):\n",
        "            action = agent.select_action(np.array(state))\n",
        "            state, curr_reward, is_done, _ = eval_env.step(action)\n",
        "            reward += curr_reward\n",
        "            if is_done:\n",
        "                break\n",
        "    return reward / episodes"
      ]
    },
    {
      "cell_type": "code",
      "execution_count": 65,
      "id": "v_3vwUZDuJfv",
      "metadata": {
        "colab": {
          "base_uri": "https://localhost:8080/",
          "height": 281
        },
        "id": "v_3vwUZDuJfv",
        "outputId": "d7ebfc08-fa48-4885-bec5-f7bec2093cd2"
      },
      "outputs": [
        {
          "output_type": "display_data",
          "data": {
            "image/png": "[encoded data removed]",
            "text/plain": [
              "<Figure size 576x288 with 1 Axes>"
            ]
          },
          "metadata": {
            "needs_background": "light"
          }
        }
      ],
      "source": [
        "from IPython.display import clear_output\n",
        "\n",
        "env_name = 'InvertedPendulum-v2'\n",
        "env = gym.make(env_name)\n",
        "state_dim = env.observation_space.shape[0]\n",
        "n_actions = env.action_space.shape[0]\n",
        "scale = float(env.action_space.high[0])\n",
        "\n",
        "batch_size = 256\n",
        "agent = DDPG(state_dim=state_dim, n_actions=n_actions, max_action=scale, gamma=0.99, tau=0.005)\n",
        "evaluations = []\n",
        "memory = ReplayBuffer(state_dim, n_actions)\n",
        "state = env.reset()\n",
        "is_done = False\n",
        "episode_reward = 0\n",
        "episode_step = 0\n",
        "episode_num = 0\n",
        "evaluations = []\n",
        "episode_rewards = []\n",
        "noise = 0.1\n",
        "time_start = 5000\n",
        "\n",
        "for t in range(1, 50000):\n",
        "    episode_step += 1\n",
        "    if t >= time_start:\n",
        "        action = (agent.select_action(np.array(state)) + scale * noise * np.random.randn(n_actions)).clip(-scale, scale)\n",
        "    else:\n",
        "        action = env.action_space.sample()\n",
        "    next_state, reward, is_done, _ = env.step(action)\n",
        "    if episode_step < env._max_episode_steps:\n",
        "        mask = is_done\n",
        "    else:\n",
        "        mask = 0\n",
        "    memory.add(state, action, reward, next_state, mask)\n",
        "    state = next_state\n",
        "    episode_reward += reward\n",
        "    if t >= time_start:\n",
        "        agent.train(memory)\n",
        "    if is_done:\n",
        "        episode_rewards.append(episode_reward)\n",
        "        state = env.reset()\n",
        "        is_done = False\n",
        "        episode_reward = 0\n",
        "        episode_step = 0\n",
        "        episode_num += 1\n",
        "    if t >= time_start and t % 1000 == 0:\n",
        "        evaluations.append(evaluate(agent, env))\n",
        "        #print('evaluation reward:', np.round(np.array(evaluations).mean(), 2))\n",
        "        fig = plt.figure(figsize=[8, 4])\n",
        "        plt.title(\"Eval reward\")\n",
        "        clear_output(True)\n",
        "        plt.plot(evaluations)\n",
        "        plt.grid()\n",
        "        plt.show()"
      ]
    },
    {
      "cell_type": "code",
      "execution_count": 67,
      "id": "-FGMZsE8D-8b",
      "metadata": {
        "id": "-FGMZsE8D-8b",
        "colab": {
          "resources": {
            "http://localhost:8080/video/openaigym.video.14.427.video000000.mp4": {
              "data": "CjwhRE9DVFlQRSBodG1sPgo8aHRtbCBsYW5nPWVuPgogIDxtZXRhIGNoYXJzZXQ9dXRmLTg+CiAgPG1ldGEgbmFtZT12aWV3cG9ydCBjb250ZW50PSJpbml0aWFsLXNjYWxlPTEsIG1pbmltdW0tc2NhbGU9MSwgd2lkdGg9ZGV2aWNlLXdpZHRoIj4KICA8dGl0bGU+RXJyb3IgNDA0IChOb3QgRm91bmQpISExPC90aXRsZT4KICA8c3R5bGU+CiAgICAqe21hcmdpbjowO3BhZGRpbmc6MH1odG1sLGNvZGV7Zm9udDoxNXB4LzIycHggYXJpYWwsc2Fucy1zZXJpZn1odG1se2JhY2tncm91bmQ6I2ZmZjtjb2xvcjojMjIyO3BhZGRpbmc6MTVweH1ib2R5e21hcmdpbjo3JSBhdXRvIDA7bWF4LXdpZHRoOjM5MHB4O21pbi1oZWlnaHQ6MTgwcHg7cGFkZGluZzozMHB4IDAgMTVweH0qID4gYm9keXtiYWNrZ3JvdW5kOnVybCgvL3d3dy5nb29nbGUuY29tL2ltYWdlcy9lcnJvcnMvcm9ib3QucG5nKSAxMDAlIDVweCBuby1yZXBlYXQ7cGFkZGluZy1yaWdodDoyMDVweH1we21hcmdpbjoxMXB4IDAgMjJweDtvdmVyZmxvdzpoaWRkZW59aW5ze2NvbG9yOiM3Nzc7dGV4dC1kZWNvcmF0aW9uOm5vbmV9YSBpbWd7Ym9yZGVyOjB9QG1lZGlhIHNjcmVlbiBhbmQgKG1heC13aWR0aDo3NzJweCl7Ym9keXtiYWNrZ3JvdW5kOm5vbmU7bWFyZ2luLXRvcDowO21heC13aWR0aDpub25lO3BhZGRpbmctcmlnaHQ6MH19I2xvZ297YmFja2dyb3VuZDp1cmwoLy93d3cuZ29vZ2xlLmNvbS9pbWFnZXMvbG9nb3MvZXJyb3JwYWdlL2Vycm9yX2xvZ28tMTUweDU0LnBuZykgbm8tcmVwZWF0O21hcmdpbi1sZWZ0Oi01cHh9QG1lZGlhIG9ubHkgc2NyZWVuIGFuZCAobWluLXJlc29sdXRpb246MTkyZHBpKXsjbG9nb3tiYWNrZ3JvdW5kOnVybCgvL3d3dy5nb29nbGUuY29tL2ltYWdlcy9sb2dvcy9lcnJvcnBhZ2UvZXJyb3JfbG9nby0xNTB4NTQtMngucG5nKSBuby1yZXBlYXQgMCUgMCUvMTAwJSAxMDAlOy1tb3otYm9yZGVyLWltYWdlOnVybCgvL3d3dy5nb29nbGUuY29tL2ltYWdlcy9sb2dvcy9lcnJvcnBhZ2UvZXJyb3JfbG9nby0xNTB4NTQtMngucG5nKSAwfX1AbWVkaWEgb25seSBzY3JlZW4gYW5kICgtd2Via2l0LW1pbi1kZXZpY2UtcGl4ZWwtcmF0aW86Mil7I2xvZ297YmFja2dyb3VuZDp1cmwoLy93d3cuZ29vZ2xlLmNvbS9pbWFnZXMvbG9nb3MvZXJyb3JwYWdlL2Vycm9yX2xvZ28tMTUweDU0LTJ4LnBuZykgbm8tcmVwZWF0Oy13ZWJraXQtYmFja2dyb3VuZC1zaXplOjEwMCUgMTAwJX19I2xvZ297ZGlzcGxheTppbmxpbmUtYmxvY2s7aGVpZ2h0OjU0cHg7d2lkdGg6MTUwcHh9CiAgPC9zdHlsZT4KICA8YSBocmVmPS8vd3d3Lmdvb2dsZS5jb20vPjxzcGFuIGlkPWxvZ28gYXJpYS1sYWJlbD1Hb29nbGU+PC9zcGFuPjwvYT4KICA8cD48Yj40MDQuPC9iPiA8aW5zPlRoYXTigJlzIGFuIGVycm9yLjwvaW5zPgogIDxwPiAgPGlucz5UaGF04oCZcyBhbGwgd2Uga25vdy48L2lucz4K",
              "ok": false,
              "headers": [
                [
                  "content-length",
                  "1449"
                ],
                [
                  "content-type",
                  "text/html; charset=utf-8"
                ]
              ],
              "status": 404,
              "status_text": ""
            }
          },
          "base_uri": "https://localhost:8080/",
          "height": 501
        },
        "outputId": "b37e8bfa-693f-4789-843a-c31d31600485"
      },
      "outputs": [
        {
          "output_type": "execute_result",
          "data": {
            "text/html": [
              "\n",
              "<video width=\"640\" height=\"480\" controls>\n",
              "  <source src=\"./video/openaigym.video.14.427.video000000.mp4\" type=\"video/mp4\">\n",
              "</video>\n"
            ],
            "text/plain": [
              "<IPython.core.display.HTML object>"
            ]
          },
          "metadata": {},
          "execution_count": 67
        }
      ],
      "source": [
        "import sys, os\n",
        "from gym.wrappers import Monitor\n",
        "eval_env = Monitor(gym.make(env_name), './video', force=True)\n",
        "evaluate(agent, eval_env, episodes=10)\n",
        "eval_env.close()\n",
        "from IPython.display import HTML\n",
        "\n",
        "video_names = list(filter(lambda s: s.endswith(\".mp4\"), os.listdir(\"./video/\")))\n",
        "\n",
        "HTML(\"\"\"\n",
        "<video width=\"640\" height=\"480\" controls>\n",
        "  <source src=\"{}\" type=\"video/mp4\">\n",
        "</video>\n",
        "\"\"\".format(\"./video/\"+video_names[-1]))"
      ]
    },
    {
      "cell_type": "code",
      "execution_count": null,
      "id": "ReBRgWqwWpJF",
      "metadata": {
        "id": "ReBRgWqwWpJF"
      },
      "outputs": [],
      "source": [
        ""
      ]
    }
  ],
  "metadata": {
    "accelerator": "GPU",
    "colab": {
      "name": "InvPend.ipynb",
      "provenance": []
    },
    "kernelspec": {
      "display_name": "Py3 study",
      "language": "python",
      "name": "py3_study"
    },
    "language_info": {
      "codemirror_mode": {
        "name": "ipython",
        "version": 3
      },
      "file_extension": ".py",
      "mimetype": "text/x-python",
      "name": "python",
      "nbconvert_exporter": "python",
      "pygments_lexer": "ipython3",
      "version": "3.7.1"
    }
  },
  "nbformat": 4,
  "nbformat_minor": 5
}