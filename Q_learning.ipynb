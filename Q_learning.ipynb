{
  "nbformat": 4,
  "nbformat_minor": 0,
  "metadata": {
    "colab": {
      "name": "seminar_pytorch.ipynb",
      "provenance": []
    },
    "language_info": {
      "name": "python"
    },
    "kernelspec": {
      "name": "python3",
      "display_name": "Python 3"
    }
  },
  "cells": [
    {
      "cell_type": "markdown",
      "metadata": {
        "id": "gCqODvaHXCnI"
      },
      "source": [
        "# Approximate q-learning\n",
        "\n",
        "In this notebook you will teach a __PyTorch__ neural network to do Q-learning."
      ]
    },
    {
      "cell_type": "markdown",
      "metadata": {
        "id": "08jtHurdXLHV"
      },
      "source": [
        "Acknowledgements for this great practice notebook to the [Practical_RL](https://github.com/yandexdataschool/Practical_RL) course team."
      ]
    },
    {
      "cell_type": "code",
      "metadata": {
        "id": "Nd-cFCjDXCnP",
        "outputId": "2e90707e-f03a-4c22-b75b-7b6fcab8db25",
        "colab": {
          "base_uri": "https://localhost:8080/"
        }
      },
      "source": [
        "import sys, os\n",
        "if 'google.colab' in sys.modules and not os.path.exists('.setup_complete'):\n",
        "    !wget -q https://raw.githubusercontent.com/yandexdataschool/Practical_RL/master/setup_colab.sh -O- | bash\n",
        "    !touch .setup_complete\n",
        "\n",
        "# This code creates a virtual display to draw game images on.\n",
        "# It will have no effect if your machine has a monitor.\n",
        "if type(os.environ.get(\"DISPLAY\")) is not str or len(os.environ.get(\"DISPLAY\")) == 0:\n",
        "    !bash ../xvfb start\n",
        "    os.environ['DISPLAY'] = ':1'"
      ],
      "execution_count": 1,
      "outputs": [
        {
          "output_type": "stream",
          "name": "stdout",
          "text": [
            "Selecting previously unselected package xvfb.\n",
            "(Reading database ... 155219 files and directories currently installed.)\n",
            "Preparing to unpack .../xvfb_2%3a1.19.6-1ubuntu4.9_amd64.deb ...\n",
            "Unpacking xvfb (2:1.19.6-1ubuntu4.9) ...\n",
            "Setting up xvfb (2:1.19.6-1ubuntu4.9) ...\n",
            "Processing triggers for man-db (2.8.3-2ubuntu0.1) ...\n",
            "Starting virtual X frame buffer: Xvfb.\n"
          ]
        }
      ]
    },
    {
      "cell_type": "code",
      "metadata": {
        "id": "oFz0TdbOXCnU"
      },
      "source": [
        "import gym\n",
        "import numpy as np\n",
        "import pandas as pd\n",
        "import matplotlib.pyplot as plt\n",
        "%matplotlib inline"
      ],
      "execution_count": 2,
      "outputs": []
    },
    {
      "cell_type": "code",
      "metadata": {
        "id": "ic1GL5vgXCnW",
        "outputId": "6b2ac052-f961-4feb-ed09-82545de3ac64",
        "colab": {
          "base_uri": "https://localhost:8080/",
          "height": 269
        }
      },
      "source": [
        "env = gym.make(\"CartPole-v0\").env\n",
        "env.reset()\n",
        "n_actions = env.action_space.n\n",
        "state_dim = env.observation_space.shape\n",
        "\n",
        "plt.imshow(env.render(\"rgb_array\"))\n",
        "env.close()"
      ],
      "execution_count": 3,
      "outputs": [
        {
          "output_type": "display_data",
          "data": {
            "image/png": "[encoded data removed]",
            "text/plain": [
              "<Figure size 432x288 with 1 Axes>"
            ]
          },
          "metadata": {
            "needs_background": "light"
          }
        }
      ]
    },
    {
      "cell_type": "markdown",
      "metadata": {
        "id": "0jHgqgo2XCnY"
      },
      "source": [
        "# Approximate Q-learning: building the network\n",
        "\n",
        "To train a neural network policy one must have a neural network policy. Let's build it.\n",
        "\n",
        "\n",
        "Since we're working with a pre-extracted features (cart positions, angles and velocities), we don't need a complicated network yet. In fact, let's build something like this for starters:\n",
        "\n",
        "![img](https://raw.githubusercontent.com/yandexdataschool/Practical_RL/master/yet_another_week/_resource/qlearning_scheme.png)\n",
        "\n",
        "For your first run, please only use linear layers (`nn.Linear`) and activations. Stuff like batch normalization or dropout may ruin everything if used haphazardly. \n",
        "\n",
        "Also please avoid using nonlinearities like sigmoid & tanh: since agent's observations are not normalized, sigmoids might be saturated at initialization. Instead, use non-saturating nonlinearities like ReLU.\n",
        "\n",
        "Ideally you should start small with maybe 1-2 hidden layers with < 200 neurons and then increase network size if agent doesn't beat the target score."
      ]
    },
    {
      "cell_type": "code",
      "metadata": {
        "id": "yNLqOfpRXCna"
      },
      "source": [
        "import torch\n",
        "import torch.nn as nn\n",
        "import torch.nn.functional as F"
      ],
      "execution_count": 4,
      "outputs": []
    },
    {
      "cell_type": "code",
      "metadata": {
        "id": "sMZXeq_eXCnb"
      },
      "source": [
        "network = nn.Sequential()\n",
        "\n",
        "network.add_module('layer1', nn.Linear(state_dim[0], 64))\n",
        "network.add_module('relu1', nn.ReLU())\n",
        "network.add_module('layer2', nn.Linear(64, 64))\n",
        "network.add_module('relu2', nn.ReLU())\n",
        "network.add_module('layer3', nn.Linear(64, n_actions))\n",
        "\n",
        "# hint: use state_dim[0] as input size"
      ],
      "execution_count": 29,
      "outputs": []
    },
    {
      "cell_type": "code",
      "metadata": {
        "id": "fSCvCJ8NXCnd"
      },
      "source": [
        "def get_action(state, epsilon=0):\n",
        "    \"\"\"\n",
        "    sample actions with epsilon-greedy policy\n",
        "    recap: with p = epsilon pick random action, else pick action with highest Q(s,a)\n",
        "    \"\"\"\n",
        "    state = torch.tensor(state[None], dtype=torch.float32)\n",
        "    q_values = network(state).detach().numpy()\n",
        "\n",
        "    if np.random.random() < epsilon:\n",
        "        chosen_action = np.random.choice(n_actions)\n",
        "    else:\n",
        "        chosen_action = np.argmax(q_values[0])\n",
        "    return int(chosen_action)"
      ],
      "execution_count": 30,
      "outputs": []
    },
    {
      "cell_type": "code",
      "metadata": {
        "id": "pjU3lJ7lXCnf",
        "outputId": "babaf2fe-8a0b-48bc-f643-cae56d83cd1e",
        "colab": {
          "base_uri": "https://localhost:8080/"
        }
      },
      "source": [
        "s = env.reset()\n",
        "assert tuple(network(torch.tensor([s]*3, dtype=torch.float32)).size()) == (\n",
        "    3, n_actions), \"please make sure your model maps state s -> [Q(s,a0), ..., Q(s, a_last)]\"\n",
        "assert isinstance(list(network.modules(\n",
        "))[-1], nn.Linear), \"please make sure you predict q-values without nonlinearity (ignore if you know what you're doing)\"\n",
        "assert isinstance(get_action(\n",
        "    s), int), \"get_action(s) must return int, not %s. try int(action)\" % (type(get_action(s)))\n",
        "\n",
        "# test epsilon-greedy exploration\n",
        "for eps in [0., 0.1, 0.5, 1.0]:\n",
        "    state_frequencies = np.bincount(\n",
        "        [get_action(s, epsilon=eps) for i in range(10000)], minlength=n_actions)\n",
        "    best_action = state_frequencies.argmax()\n",
        "    assert abs(state_frequencies[best_action] -\n",
        "               10000 * (1 - eps + eps / n_actions)) < 200\n",
        "    for other_action in range(n_actions):\n",
        "        if other_action != best_action:\n",
        "            assert abs(state_frequencies[other_action] -\n",
        "                       10000 * (eps / n_actions)) < 200\n",
        "    print('e=%.1f tests passed' % eps)"
      ],
      "execution_count": 45,
      "outputs": [
        {
          "output_type": "stream",
          "name": "stdout",
          "text": [
            "e=0.0 tests passed\n",
            "e=0.1 tests passed\n",
            "e=0.5 tests passed\n",
            "e=1.0 tests passed\n"
          ]
        }
      ]
    },
    {
      "cell_type": "markdown",
      "metadata": {
        "id": "4ihZCwQvXCnh"
      },
      "source": [
        "### Q-learning via gradient descent\n",
        "\n",
        "We shall now train our agent's Q-function by minimizing the TD loss:\n",
        "$$ L = { 1 \\over N} \\sum_i (Q_{\\theta}(s,a) - [r(s,a) + \\gamma \\cdot max_{a'} Q_{-}(s', a')]) ^2 $$\n",
        "\n",
        "\n",
        "Where\n",
        "* $s, a, r, s'$ are current state, action, reward and next state respectively\n",
        "* $\\gamma$ is a discount factor defined two cells above.\n",
        "\n",
        "The tricky part is with  $Q_{-}(s',a')$. From an engineering standpoint, it's the same as $Q_{\\theta}$ - the output of your neural network policy. However, when doing gradient descent, __we won't propagate gradients through it__ to make training more stable (see lectures).\n",
        "\n",
        "To do so, we shall use `x.detach()` function which basically says \"consider this thing constant when doingbackprop\"."
      ]
    },
    {
      "cell_type": "code",
      "metadata": {
        "id": "PwnddtucXCnj"
      },
      "source": [
        "def compute_td_loss(states, actions, rewards, next_states, is_done, gamma=0.99, check_shapes=False):\n",
        "    \"\"\" Compute td loss using torch operations only. Use the formula above. \"\"\"\n",
        "    states = torch.tensor(\n",
        "        states, dtype=torch.float32)    # shape: [batch_size, state_size]\n",
        "    actions = torch.tensor(actions, dtype=torch.long)    # shape: [batch_size]\n",
        "    rewards = torch.tensor(rewards, dtype=torch.float32)  # shape: [batch_size]\n",
        "    # shape: [batch_size, state_size]\n",
        "    next_states = torch.tensor(next_states, dtype=torch.float32)\n",
        "    is_done = torch.tensor(is_done, dtype=torch.uint8)  # shape: [batch_size]\n",
        "\n",
        "    # get q-values for all actions in current states\n",
        "    predicted_qvalues = network(states)\n",
        "\n",
        "    # select q-values for chosen actions\n",
        "    predicted_qvalues_for_actions = predicted_qvalues[\n",
        "      range(states.shape[0]), actions\n",
        "    ]\n",
        "\n",
        "    # compute q-values for all actions in next states\n",
        "    predicted_next_qvalues = network(next_states)\n",
        "\n",
        "    # compute V*(next_states) using predicted next q-values\n",
        "    next_state_values = torch.max(predicted_next_qvalues, dim=1)[0]\n",
        "    assert next_state_values.dtype == torch.float32\n",
        "\n",
        "    # compute \"target q-values\" for loss - it's what's inside square parentheses in the above formula.\n",
        "    target_qvalues_for_actions = rewards * gamma * next_state_values\n",
        "\n",
        "    # at the last state we shall use simplified formula: Q(s,a) = r(s,a) since s' doesn't exist\n",
        "    target_qvalues_for_actions = torch.where(\n",
        "        is_done, rewards, target_qvalues_for_actions)\n",
        "\n",
        "    # mean squared error loss to minimize\n",
        "    loss = torch.mean((predicted_qvalues_for_actions -\n",
        "                       target_qvalues_for_actions.detach()) ** 2)\n",
        "\n",
        "    if check_shapes:\n",
        "        assert predicted_next_qvalues.data.dim(\n",
        "        ) == 2, \"make sure you predicted q-values for all actions in next state\"\n",
        "        assert next_state_values.data.dim(\n",
        "        ) == 1, \"make sure you computed V(s') as maximum over just the actions axis and not all axes\"\n",
        "        assert target_qvalues_for_actions.data.dim(\n",
        "        ) == 1, \"there's something wrong with target q-values, they must be a vector\"\n",
        "\n",
        "    return loss"
      ],
      "execution_count": 46,
      "outputs": []
    },
    {
      "cell_type": "code",
      "metadata": {
        "id": "40eNWfkIXCnl",
        "outputId": "0a26b191-405b-4d2b-ad6f-fe2ec52ba82a",
        "colab": {
          "base_uri": "https://localhost:8080/"
        }
      },
      "source": [
        "# sanity checks\n",
        "s = env.reset()\n",
        "a = env.action_space.sample()\n",
        "next_s, r, done, _ = env.step(a)\n",
        "loss = compute_td_loss([s], [a], [r], [next_s], [done], check_shapes=True)\n",
        "loss.backward()\n",
        "\n",
        "assert len(loss.size()) == 0, \"you must return scalar loss - mean over batch\"\n",
        "assert np.any(next(network.parameters()).grad.detach().numpy() !=\n",
        "              0), \"loss must be differentiable w.r.t. network weights\""
      ],
      "execution_count": 47,
      "outputs": [
        {
          "output_type": "stream",
          "name": "stderr",
          "text": [
            "/usr/local/lib/python3.7/dist-packages/ipykernel_launcher.py:31: UserWarning: where received a uint8 condition tensor. This behavior is deprecated and will be removed in a future version of PyTorch. Use a boolean condition instead. (Triggered internally at  ../aten/src/ATen/native/TensorCompare.cpp:328.)\n"
          ]
        }
      ]
    },
    {
      "cell_type": "markdown",
      "metadata": {
        "id": "XLTaHjPWXCnn"
      },
      "source": [
        "### Playing the game"
      ]
    },
    {
      "cell_type": "code",
      "metadata": {
        "id": "E6bBeT_5XCno"
      },
      "source": [
        "opt = torch.optim.Adam(network.parameters(), lr=1e-4)"
      ],
      "execution_count": 48,
      "outputs": []
    },
    {
      "cell_type": "code",
      "metadata": {
        "id": "nyBc0Sk7XCnp"
      },
      "source": [
        "def generate_session(env, t_max=1000, epsilon=0, train=False):\n",
        "    \"\"\"play env with approximate q-learning agent and train it at the same time\"\"\"\n",
        "    total_reward = 0\n",
        "    s = env.reset()\n",
        "\n",
        "    for t in range(t_max):\n",
        "        a = get_action(s, epsilon=epsilon)\n",
        "        next_s, r, done, _ = env.step(a)\n",
        "\n",
        "        if train:\n",
        "            opt.zero_grad()\n",
        "            compute_td_loss([s], [a], [r], [next_s], [done]).backward()\n",
        "            opt.step()\n",
        "\n",
        "        total_reward += r\n",
        "        s = next_s\n",
        "        if done:\n",
        "            break\n",
        "\n",
        "    return total_reward"
      ],
      "execution_count": 49,
      "outputs": []
    },
    {
      "cell_type": "code",
      "metadata": {
        "id": "hif3o3ZPXCnq"
      },
      "source": [
        "epsilon = 0.5"
      ],
      "execution_count": 50,
      "outputs": []
    },
    {
      "cell_type": "code",
      "metadata": {
        "id": "bM3YZW6lXCnq",
        "outputId": "d52bedfe-83ba-4013-bf9b-c3cd60591081",
        "colab": {
          "base_uri": "https://localhost:8080/"
        }
      },
      "source": [
        "for i in range(1000):\n",
        "    session_rewards = [generate_session(env, epsilon=epsilon, train=True) for _ in range(100)]\n",
        "    print(\"epoch #{}\\tmean reward = {:.3f}\\tepsilon = {:.3f}\".format(i, np.mean(session_rewards), epsilon))\n",
        "\n",
        "    epsilon *= 0.99\n",
        "    assert epsilon >= 1e-4, \"Make sure epsilon is always nonzero during training\"\n",
        "\n",
        "    if np.mean(session_rewards) > 300:\n",
        "        print(\"You Win!\")\n",
        "        break"
      ],
      "execution_count": null,
      "outputs": [
        {
          "output_type": "stream",
          "name": "stdout",
          "text": [
            "epoch #0\tmean reward = 14.320\tepsilon = 0.500\n",
            "epoch #1\tmean reward = 12.600\tepsilon = 0.495\n",
            "epoch #2\tmean reward = 12.780\tepsilon = 0.490\n",
            "epoch #3\tmean reward = 12.980\tepsilon = 0.485\n",
            "epoch #4\tmean reward = 13.750\tepsilon = 0.480\n",
            "epoch #5\tmean reward = 14.470\tepsilon = 0.475\n",
            "epoch #6\tmean reward = 15.160\tepsilon = 0.471\n",
            "epoch #7\tmean reward = 13.550\tepsilon = 0.466\n",
            "epoch #8\tmean reward = 13.180\tepsilon = 0.461\n",
            "epoch #9\tmean reward = 12.520\tepsilon = 0.457\n",
            "epoch #10\tmean reward = 12.910\tepsilon = 0.452\n",
            "epoch #11\tmean reward = 13.340\tepsilon = 0.448\n",
            "epoch #12\tmean reward = 13.460\tepsilon = 0.443\n",
            "epoch #13\tmean reward = 13.830\tepsilon = 0.439\n",
            "epoch #14\tmean reward = 12.330\tepsilon = 0.434\n",
            "epoch #15\tmean reward = 13.500\tepsilon = 0.430\n",
            "epoch #16\tmean reward = 14.100\tepsilon = 0.426\n",
            "epoch #17\tmean reward = 13.600\tepsilon = 0.421\n",
            "epoch #18\tmean reward = 14.070\tepsilon = 0.417\n",
            "epoch #19\tmean reward = 13.480\tepsilon = 0.413\n",
            "epoch #20\tmean reward = 13.190\tepsilon = 0.409\n",
            "epoch #21\tmean reward = 12.870\tepsilon = 0.405\n",
            "epoch #22\tmean reward = 13.110\tepsilon = 0.401\n",
            "epoch #23\tmean reward = 12.880\tepsilon = 0.397\n",
            "epoch #24\tmean reward = 14.280\tepsilon = 0.393\n",
            "epoch #25\tmean reward = 13.630\tepsilon = 0.389\n",
            "epoch #26\tmean reward = 12.380\tepsilon = 0.385\n",
            "epoch #27\tmean reward = 12.070\tepsilon = 0.381\n",
            "epoch #28\tmean reward = 12.110\tepsilon = 0.377\n",
            "epoch #29\tmean reward = 12.530\tepsilon = 0.374\n",
            "epoch #30\tmean reward = 12.930\tepsilon = 0.370\n",
            "epoch #31\tmean reward = 12.470\tepsilon = 0.366\n",
            "epoch #32\tmean reward = 13.670\tepsilon = 0.362\n",
            "epoch #33\tmean reward = 12.920\tepsilon = 0.359\n",
            "epoch #34\tmean reward = 12.940\tepsilon = 0.355\n",
            "epoch #35\tmean reward = 12.160\tepsilon = 0.352\n",
            "epoch #36\tmean reward = 12.790\tepsilon = 0.348\n",
            "epoch #37\tmean reward = 12.920\tepsilon = 0.345\n",
            "epoch #38\tmean reward = 12.920\tepsilon = 0.341\n",
            "epoch #39\tmean reward = 12.230\tepsilon = 0.338\n",
            "epoch #40\tmean reward = 12.900\tepsilon = 0.334\n",
            "epoch #41\tmean reward = 12.380\tepsilon = 0.331\n",
            "epoch #42\tmean reward = 12.020\tepsilon = 0.328\n",
            "epoch #43\tmean reward = 12.510\tepsilon = 0.325\n",
            "epoch #44\tmean reward = 12.810\tepsilon = 0.321\n",
            "epoch #45\tmean reward = 12.100\tepsilon = 0.318\n",
            "epoch #46\tmean reward = 12.210\tepsilon = 0.315\n",
            "epoch #47\tmean reward = 11.700\tepsilon = 0.312\n",
            "epoch #48\tmean reward = 12.150\tepsilon = 0.309\n",
            "epoch #49\tmean reward = 12.260\tepsilon = 0.306\n",
            "epoch #50\tmean reward = 11.580\tepsilon = 0.303\n",
            "epoch #51\tmean reward = 11.640\tepsilon = 0.299\n",
            "epoch #52\tmean reward = 12.450\tepsilon = 0.296\n",
            "epoch #53\tmean reward = 12.580\tepsilon = 0.294\n",
            "epoch #54\tmean reward = 12.780\tepsilon = 0.291\n",
            "epoch #55\tmean reward = 11.850\tepsilon = 0.288\n",
            "epoch #56\tmean reward = 11.490\tepsilon = 0.285\n",
            "epoch #57\tmean reward = 11.510\tepsilon = 0.282\n",
            "epoch #58\tmean reward = 11.720\tepsilon = 0.279\n",
            "epoch #59\tmean reward = 12.620\tepsilon = 0.276\n",
            "epoch #60\tmean reward = 11.710\tepsilon = 0.274\n",
            "epoch #61\tmean reward = 12.080\tepsilon = 0.271\n",
            "epoch #62\tmean reward = 12.320\tepsilon = 0.268\n",
            "epoch #63\tmean reward = 11.810\tepsilon = 0.265\n",
            "epoch #64\tmean reward = 11.940\tepsilon = 0.263\n",
            "epoch #65\tmean reward = 11.170\tepsilon = 0.260\n",
            "epoch #66\tmean reward = 12.110\tepsilon = 0.258\n",
            "epoch #67\tmean reward = 11.950\tepsilon = 0.255\n",
            "epoch #68\tmean reward = 11.490\tepsilon = 0.252\n",
            "epoch #69\tmean reward = 11.750\tepsilon = 0.250\n",
            "epoch #70\tmean reward = 11.520\tepsilon = 0.247\n",
            "epoch #71\tmean reward = 11.970\tepsilon = 0.245\n",
            "epoch #72\tmean reward = 12.240\tepsilon = 0.242\n",
            "epoch #73\tmean reward = 11.170\tepsilon = 0.240\n",
            "epoch #74\tmean reward = 11.410\tepsilon = 0.238\n",
            "epoch #75\tmean reward = 11.190\tepsilon = 0.235\n",
            "epoch #76\tmean reward = 11.420\tepsilon = 0.233\n",
            "epoch #77\tmean reward = 12.050\tepsilon = 0.231\n",
            "epoch #78\tmean reward = 11.920\tepsilon = 0.228\n",
            "epoch #79\tmean reward = 11.330\tepsilon = 0.226\n",
            "epoch #80\tmean reward = 11.110\tepsilon = 0.224\n",
            "epoch #81\tmean reward = 12.110\tepsilon = 0.222\n",
            "epoch #82\tmean reward = 11.360\tepsilon = 0.219\n",
            "epoch #83\tmean reward = 11.370\tepsilon = 0.217\n",
            "epoch #84\tmean reward = 11.100\tepsilon = 0.215\n",
            "epoch #85\tmean reward = 11.230\tepsilon = 0.213\n",
            "epoch #86\tmean reward = 11.670\tepsilon = 0.211\n",
            "epoch #87\tmean reward = 11.520\tepsilon = 0.209\n",
            "epoch #88\tmean reward = 11.520\tepsilon = 0.206\n",
            "epoch #89\tmean reward = 11.240\tepsilon = 0.204\n",
            "epoch #90\tmean reward = 11.340\tepsilon = 0.202\n",
            "epoch #91\tmean reward = 11.230\tepsilon = 0.200\n",
            "epoch #92\tmean reward = 10.840\tepsilon = 0.198\n",
            "epoch #93\tmean reward = 10.990\tepsilon = 0.196\n",
            "epoch #94\tmean reward = 11.350\tepsilon = 0.194\n",
            "epoch #95\tmean reward = 10.730\tepsilon = 0.192\n",
            "epoch #96\tmean reward = 10.580\tepsilon = 0.191\n",
            "epoch #97\tmean reward = 10.850\tepsilon = 0.189\n",
            "epoch #98\tmean reward = 10.940\tepsilon = 0.187\n",
            "epoch #99\tmean reward = 10.600\tepsilon = 0.185\n",
            "epoch #100\tmean reward = 10.850\tepsilon = 0.183\n",
            "epoch #101\tmean reward = 10.980\tepsilon = 0.181\n",
            "epoch #102\tmean reward = 10.760\tepsilon = 0.179\n",
            "epoch #103\tmean reward = 10.720\tepsilon = 0.178\n",
            "epoch #104\tmean reward = 10.570\tepsilon = 0.176\n",
            "epoch #105\tmean reward = 11.080\tepsilon = 0.174\n",
            "epoch #106\tmean reward = 11.020\tepsilon = 0.172\n",
            "epoch #107\tmean reward = 10.780\tepsilon = 0.171\n",
            "epoch #108\tmean reward = 10.420\tepsilon = 0.169\n",
            "epoch #109\tmean reward = 10.640\tepsilon = 0.167\n",
            "epoch #110\tmean reward = 10.550\tepsilon = 0.166\n",
            "epoch #111\tmean reward = 10.470\tepsilon = 0.164\n",
            "epoch #112\tmean reward = 10.780\tepsilon = 0.162\n",
            "epoch #113\tmean reward = 10.830\tepsilon = 0.161\n",
            "epoch #114\tmean reward = 10.500\tepsilon = 0.159\n",
            "epoch #115\tmean reward = 10.800\tepsilon = 0.157\n",
            "epoch #116\tmean reward = 11.190\tepsilon = 0.156\n",
            "epoch #117\tmean reward = 10.510\tepsilon = 0.154\n",
            "epoch #118\tmean reward = 10.690\tepsilon = 0.153\n",
            "epoch #119\tmean reward = 10.450\tepsilon = 0.151\n",
            "epoch #120\tmean reward = 10.540\tepsilon = 0.150\n",
            "epoch #121\tmean reward = 10.410\tepsilon = 0.148\n",
            "epoch #122\tmean reward = 10.430\tepsilon = 0.147\n",
            "epoch #123\tmean reward = 10.050\tepsilon = 0.145\n",
            "epoch #124\tmean reward = 10.170\tepsilon = 0.144\n",
            "epoch #125\tmean reward = 10.310\tepsilon = 0.142\n",
            "epoch #126\tmean reward = 10.130\tepsilon = 0.141\n",
            "epoch #127\tmean reward = 10.290\tepsilon = 0.140\n",
            "epoch #128\tmean reward = 10.220\tepsilon = 0.138\n",
            "epoch #129\tmean reward = 10.260\tepsilon = 0.137\n",
            "epoch #130\tmean reward = 10.450\tepsilon = 0.135\n",
            "epoch #131\tmean reward = 10.750\tepsilon = 0.134\n",
            "epoch #132\tmean reward = 10.230\tepsilon = 0.133\n",
            "epoch #133\tmean reward = 10.160\tepsilon = 0.131\n",
            "epoch #134\tmean reward = 10.440\tepsilon = 0.130\n",
            "epoch #135\tmean reward = 10.540\tepsilon = 0.129\n",
            "epoch #136\tmean reward = 10.500\tepsilon = 0.127\n",
            "epoch #137\tmean reward = 10.440\tepsilon = 0.126\n",
            "epoch #138\tmean reward = 10.460\tepsilon = 0.125\n",
            "epoch #139\tmean reward = 10.530\tepsilon = 0.124\n",
            "epoch #140\tmean reward = 10.900\tepsilon = 0.122\n",
            "epoch #141\tmean reward = 11.110\tepsilon = 0.121\n",
            "epoch #142\tmean reward = 10.490\tepsilon = 0.120\n",
            "epoch #143\tmean reward = 10.200\tepsilon = 0.119\n",
            "epoch #144\tmean reward = 10.020\tepsilon = 0.118\n",
            "epoch #145\tmean reward = 10.090\tepsilon = 0.116\n",
            "epoch #146\tmean reward = 10.530\tepsilon = 0.115\n",
            "epoch #147\tmean reward = 10.220\tepsilon = 0.114\n",
            "epoch #148\tmean reward = 9.670\tepsilon = 0.113\n",
            "epoch #149\tmean reward = 10.220\tepsilon = 0.112\n",
            "epoch #150\tmean reward = 9.880\tepsilon = 0.111\n",
            "epoch #151\tmean reward = 10.090\tepsilon = 0.110\n",
            "epoch #152\tmean reward = 9.990\tepsilon = 0.109\n",
            "epoch #153\tmean reward = 9.940\tepsilon = 0.107\n",
            "epoch #154\tmean reward = 10.500\tepsilon = 0.106\n",
            "epoch #155\tmean reward = 9.870\tepsilon = 0.105\n",
            "epoch #156\tmean reward = 10.050\tepsilon = 0.104\n",
            "epoch #157\tmean reward = 10.000\tepsilon = 0.103\n"
          ]
        }
      ]
    },
    {
      "cell_type": "markdown",
      "metadata": {
        "id": "IRMCi5kKXCns"
      },
      "source": [
        "### How to interpret results\n",
        "\n",
        "\n",
        "Welcome to the f.. world of deep f...n reinforcement learning. Don't expect agent's reward to smoothly go up. Hope for it to go increase eventually. If it deems you worthy.\n",
        "\n",
        "Seriously though,\n",
        "* __ mean reward__ is the average reward per game. For a correct implementation it may stay low for some 10 epochs, then start growing while oscilating insanely and converges by ~50-100 steps depending on the network architecture. \n",
        "* If it never reaches target score by the end of for loop, try increasing the number of hidden neurons or look at the epsilon.\n",
        "* __ epsilon__ - agent's willingness to explore. If you see that agent's already at < 0.01 epsilon before it's is at least 200, just reset it back to 0.1 - 0.5."
      ]
    },
    {
      "cell_type": "markdown",
      "metadata": {
        "id": "kI4onmt8XCnt"
      },
      "source": [
        "### Record videos\n",
        "\n",
        "As usual, we now use `gym.wrappers.Monitor` to record a video of our agent playing the game. Unlike our previous attempts with state binarization, this time we expect our agent to act ~~(or fail)~~ more smoothly since there's no more binarization error at play.\n",
        "\n",
        "As you already did with tabular q-learning, we set epsilon=0 for final evaluation to prevent agent from exploring himself to death."
      ]
    },
    {
      "cell_type": "code",
      "metadata": {
        "id": "MFFqpPTjXCn1"
      },
      "source": [
        "# Record sessions\n",
        "\n",
        "import gym.wrappers\n",
        "\n",
        "with gym.wrappers.Monitor(gym.make(\"CartPole-v0\"), directory=\"videos\", force=True) as env_monitor:\n",
        "    sessions = [generate_session(env_monitor, epsilon=0, train=False) for _ in range(100)]"
      ],
      "execution_count": null,
      "outputs": []
    },
    {
      "cell_type": "code",
      "metadata": {
        "id": "9Co5c2lEXCn2"
      },
      "source": [
        "# Show video. This may not work in some setups. If it doesn't\n",
        "# work for you, you can download the videos and view them locally.\n",
        "\n",
        "from pathlib import Path\n",
        "from base64 import b64encode\n",
        "from IPython.display import HTML\n",
        "\n",
        "video_paths = sorted([s for s in Path('videos').iterdir() if s.suffix == '.mp4'])\n",
        "video_path = video_paths[-1]  # You can also try other indices\n",
        "\n",
        "if 'google.colab' in sys.modules:\n",
        "    # https://stackoverflow.com/a/57378660/1214547\n",
        "    with video_path.open('rb') as fp:\n",
        "        mp4 = fp.read()\n",
        "    data_url = 'data:video/mp4;base64,' + b64encode(mp4).decode()\n",
        "else:\n",
        "    data_url = str(video_path)\n",
        "\n",
        "HTML(\"\"\"\n",
        "<video width=\"640\" height=\"480\" controls>\n",
        "  <source src=\"{}\" type=\"video/mp4\">\n",
        "</video>\n",
        "\"\"\".format(data_url))"
      ],
      "execution_count": null,
      "outputs": []
    }
  ]
}